{
    "cells": [
        {
            "cell_type": "markdown",
            "metadata": {},
            "source": "# FLAVOR NETWORK"
        },
        {
            "cell_type": "markdown",
            "metadata": {},
            "source": "This project is a project doing research on flavor networks at recipees basing on their shared compounds and its final mission is to generate novel recipees using the compatibility of various ingredients, analyze the evolution of various cuisines around the world and build finally a recommender system based on personalized preferences."
        },
        {
            "cell_type": "markdown",
            "metadata": {},
            "source": "## FIRST STEP: WEB SCRAPING"
        },
        {
            "cell_type": "markdown",
            "metadata": {},
            "source": "The first thing we need to do is web scraping after identifying the data requirements, since we don't have a dataset available, and https://yummly.com seems as a reasonable recipee web site. In the case of instant updates on the online data, we will be performing this operation once a day in order to keep the data more up-to-date.  "
        },
        {
            "cell_type": "code",
            "execution_count": 118,
            "metadata": {},
            "outputs": [],
            "source": "import re\nimport urllib.request\nurls = []\nfor i in range(23061):\n    url = \"https://mapi.yummly.com/mapi/v18/content/search?solr.seo_boost=new&start=\"+str(i*100)+\"&maxResult=100&fetchUserCollections=false&allowedContent=single_recipe&allowedContent=suggested_search&allowedContent=related_search&allowedContent=article&allowedContent=video&allowedContent=generic_cta&guided-search=true&solr.view_type=search_internal\"\n    urls.append(url)\n#urls"
        },
        {
            "cell_type": "code",
            "execution_count": 116,
            "metadata": {},
            "outputs": [],
            "source": "id_recipes = []\nname_recipes = []\nfor url in urls[:5]:\n    response = urllib.request.urlopen(url)\n    html = response.read()\n    text = html.decode()\n    recipes = re.findall('\"href\":\"https://www.yummly.com/recipe/(.*?)\"', text)[::2]\n    id_recipe = []\n    name_recipe = []\n    for recipe in recipes:\n        recipe_list = re.split(\"-\", recipe)\n        recipe_id = recipe_list[-1][:-1]\n        del recipe_list[-1]\n        sep = \" \"\n        recipe_name = sep.join(recipe_list).upper()\n        id_recipe.append(recipe_id)\n        name_recipe.append(recipe_name)\n    id_recipes.extend(id_recipe)\n    name_recipes.extend(name_recipe)"
        },
        {
            "cell_type": "code",
            "execution_count": 119,
            "metadata": {},
            "outputs": [],
            "source": "#name_recipes\n#id_recipes"
        },
        {
            "cell_type": "code",
            "execution_count": null,
            "metadata": {},
            "outputs": [],
            "source": ""
        },
        {
            "cell_type": "code",
            "execution_count": null,
            "metadata": {},
            "outputs": [],
            "source": ""
        }
    ],
    "metadata": {
        "kernelspec": {
            "display_name": "Python 3.6",
            "language": "python",
            "name": "python3"
        },
        "language_info": {
            "codemirror_mode": {
                "name": "ipython",
                "version": 3
            },
            "file_extension": ".py",
            "mimetype": "text/x-python",
            "name": "python",
            "nbconvert_exporter": "python",
            "pygments_lexer": "ipython3",
            "version": "3.6.9"
        }
    },
    "nbformat": 4,
    "nbformat_minor": 4
}